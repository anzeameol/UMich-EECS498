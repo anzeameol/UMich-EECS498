{
  "nbformat": 4,
  "nbformat_minor": 0,
  "metadata": {
    "accelerator": "GPU",
    "colab": {
      "name": "Copy of linear_classifier.ipynb",
      "provenance": [],
      "collapsed_sections": [],
      "include_colab_link": true
    },
    "kernelspec": {
      "display_name": "Python 3",
      "name": "python3"
    }
  },
  "cells": [
    {
      "cell_type": "markdown",
      "metadata": {
        "id": "view-in-github",
        "colab_type": "text"
      },
      "source": [
        "<a href=\"https://colab.research.google.com/github/iMeleon/PyTorch-CV-practices/blob/master/linear_classifier.ipynb\" target=\"_parent\"><img src=\"https://colab.research.google.com/assets/colab-badge.svg\" alt=\"Open In Colab\"/></a>"
      ]
    },
    {
      "cell_type": "markdown",
      "metadata": {
        "colab_type": "text",
        "id": "vTOX0d3cmLQf"
      },
      "source": [
        "# EECS 498-007/598-005 Assignment 2-1: Linear Classifiers\n",
        "\n",
        "Before we start, please put your name and UMID in following format\n",
        "\n",
        ": Firstname LASTNAME, #00000000   //   e.g.) Justin JOHNSON, #12345678"
      ]
    },
    {
      "cell_type": "markdown",
      "metadata": {
        "colab_type": "text",
        "id": "tt7vq1h6mRto"
      },
      "source": [
        "**Your Answer:**   \n",
        "Hello WORLD, #XXXXXXXX"
      ]
    },
    {
      "cell_type": "markdown",
      "metadata": {
        "colab_type": "text",
        "id": "FrfeHl_-m4V-"
      },
      "source": [
        "## Install starter code\n",
        "We will continue using the utility functions that we've used for Assignment 1: [`coutils` package](https://github.com/deepvision-class/starter-code). Run this cell to download and install it."
      ]
    },
    {
      "cell_type": "code",
      "metadata": {
        "colab_type": "code",
        "id": "VyQblYp0nEZq",
        "outputId": "309030cf-24cd-4f19-f25d-581d46efcfc8",
        "colab": {
          "base_uri": "https://localhost:8080/",
          "height": 435
        }
      },
      "source": [
        "!pip install git+https://github.com/deepvision-class/starter-code"
      ],
      "execution_count": 0,
      "outputs": [
        {
          "output_type": "stream",
          "text": [
            "Collecting git+https://github.com/deepvision-class/starter-code\n",
            "  Cloning https://github.com/deepvision-class/starter-code to /tmp/pip-req-build-ymiri6am\n",
            "  Running command git clone -q https://github.com/deepvision-class/starter-code /tmp/pip-req-build-ymiri6am\n",
            "Requirement already satisfied (use --upgrade to upgrade): Colab-Utils==0.1.dev0 from git+https://github.com/deepvision-class/starter-code in /usr/local/lib/python3.6/dist-packages\n",
            "Requirement already satisfied: pydrive in /usr/local/lib/python3.6/dist-packages (from Colab-Utils==0.1.dev0) (1.3.1)\n",
            "Requirement already satisfied: oauth2client>=4.0.0 in /usr/local/lib/python3.6/dist-packages (from pydrive->Colab-Utils==0.1.dev0) (4.1.3)\n",
            "Requirement already satisfied: google-api-python-client>=1.2 in /usr/local/lib/python3.6/dist-packages (from pydrive->Colab-Utils==0.1.dev0) (1.7.12)\n",
            "Requirement already satisfied: PyYAML>=3.0 in /usr/local/lib/python3.6/dist-packages (from pydrive->Colab-Utils==0.1.dev0) (3.13)\n",
            "Requirement already satisfied: six>=1.6.1 in /usr/local/lib/python3.6/dist-packages (from oauth2client>=4.0.0->pydrive->Colab-Utils==0.1.dev0) (1.12.0)\n",
            "Requirement already satisfied: httplib2>=0.9.1 in /usr/local/lib/python3.6/dist-packages (from oauth2client>=4.0.0->pydrive->Colab-Utils==0.1.dev0) (0.17.0)\n",
            "Requirement already satisfied: pyasn1-modules>=0.0.5 in /usr/local/lib/python3.6/dist-packages (from oauth2client>=4.0.0->pydrive->Colab-Utils==0.1.dev0) (0.2.8)\n",
            "Requirement already satisfied: pyasn1>=0.1.7 in /usr/local/lib/python3.6/dist-packages (from oauth2client>=4.0.0->pydrive->Colab-Utils==0.1.dev0) (0.4.8)\n",
            "Requirement already satisfied: rsa>=3.1.4 in /usr/local/lib/python3.6/dist-packages (from oauth2client>=4.0.0->pydrive->Colab-Utils==0.1.dev0) (4.0)\n",
            "Requirement already satisfied: uritemplate<4dev,>=3.0.0 in /usr/local/lib/python3.6/dist-packages (from google-api-python-client>=1.2->pydrive->Colab-Utils==0.1.dev0) (3.0.1)\n",
            "Requirement already satisfied: google-auth>=1.4.1 in /usr/local/lib/python3.6/dist-packages (from google-api-python-client>=1.2->pydrive->Colab-Utils==0.1.dev0) (1.7.2)\n",
            "Requirement already satisfied: google-auth-httplib2>=0.0.3 in /usr/local/lib/python3.6/dist-packages (from google-api-python-client>=1.2->pydrive->Colab-Utils==0.1.dev0) (0.0.3)\n",
            "Requirement already satisfied: setuptools>=40.3.0 in /usr/local/lib/python3.6/dist-packages (from google-auth>=1.4.1->google-api-python-client>=1.2->pydrive->Colab-Utils==0.1.dev0) (46.0.0)\n",
            "Requirement already satisfied: cachetools<3.2,>=2.0.0 in /usr/local/lib/python3.6/dist-packages (from google-auth>=1.4.1->google-api-python-client>=1.2->pydrive->Colab-Utils==0.1.dev0) (3.1.1)\n",
            "Building wheels for collected packages: Colab-Utils\n",
            "  Building wheel for Colab-Utils (setup.py) ... \u001b[?25l\u001b[?25hdone\n",
            "  Created wheel for Colab-Utils: filename=Colab_Utils-0.1.dev0-cp36-none-any.whl size=10323 sha256=0f1ed5d83a33d7c8c91de85c662447ade576ed686dcf8fcef64e1c42bc579f41\n",
            "  Stored in directory: /tmp/pip-ephem-wheel-cache-lx94fhln/wheels/63/d1/27/a208931527abb98d326d00209f46c80c9d745851d6a1defd10\n",
            "Successfully built Colab-Utils\n"
          ],
          "name": "stdout"
        }
      ]
    },
    {
      "cell_type": "markdown",
      "metadata": {
        "colab_type": "text",
        "id": "28bBK1v7nJOu"
      },
      "source": [
        "## Setup code\n",
        "Run some setup code for this notebook: Import some useful packages and increase the default figure size."
      ]
    },
    {
      "cell_type": "code",
      "metadata": {
        "colab_type": "code",
        "id": "VUCKw4Tl1ddj",
        "colab": {}
      },
      "source": [
        "from __future__ import print_function\n",
        "from __future__ import division\n",
        "\n",
        "import torch\n",
        "import coutils\n",
        "import random\n",
        "import time\n",
        "import math\n",
        "import matplotlib.pyplot as plt\n",
        "from torchvision.utils import make_grid\n",
        "\n",
        "%matplotlib inline\n",
        "plt.rcParams['figure.figsize'] = (10.0, 8.0) # set default size of plots\n",
        "plt.rcParams['image.interpolation'] = 'nearest'\n",
        "plt.rcParams['image.cmap'] = 'gray'"
      ],
      "execution_count": 0,
      "outputs": []
    },
    {
      "cell_type": "markdown",
      "metadata": {
        "colab_type": "text",
        "id": "lhqpd2IN2O-K"
      },
      "source": [
        "Starting in this assignment, we will use the GPU to accelerate our computation. Run this cell to make sure you are using a GPU."
      ]
    },
    {
      "cell_type": "code",
      "metadata": {
        "colab_type": "code",
        "id": "SGDxdBIMRX6b",
        "outputId": "8768fadc-2073-4e38-c8c9-be8f3a22ab7a",
        "colab": {
          "base_uri": "https://localhost:8080/",
          "height": 35
        }
      },
      "source": [
        "if torch.cuda.is_available:\n",
        "  print('Good to go!')\n",
        "else:\n",
        "  print('Please set GPU via Edit -> Notebook Settings.')"
      ],
      "execution_count": 0,
      "outputs": [
        {
          "output_type": "stream",
          "text": [
            "Good to go!\n"
          ],
          "name": "stdout"
        }
      ]
    },
    {
      "cell_type": "markdown",
      "metadata": {
        "colab_type": "text",
        "id": "fdMnUocj7Srw"
      },
      "source": [
        "Now, we will load CIFAR10 dataset, with normalization.\n",
        "\n",
        "In this notebook we will use the **bias trick**: By adding an extra constant feature of ones to each image, we avoid the need to keep track of a bias vector; the bias will be encoded as the part of the weight matrix that interacts with the constant ones in the input.\n",
        "\n",
        "In the `two_layer_net.ipynb` notebook that follows this one, we will not use the bias trick."
      ]
    },
    {
      "cell_type": "code",
      "metadata": {
        "colab_type": "code",
        "id": "V2mFlFmQ1ddm",
        "outputId": "6a1be09f-5cd5-45ac-d96e-37a325b8df09",
        "colab": {
          "base_uri": "https://localhost:8080/",
          "height": 395
        }
      },
      "source": [
        "def get_CIFAR10_data(validation_ratio = 0.02):\n",
        "  \"\"\"\n",
        "  Load the CIFAR-10 dataset from disk and perform preprocessing to prepare\n",
        "  it for the linear classifier. These are the same steps as we used for the\n",
        "  SVM, but condensed to a single function.  \n",
        "  \"\"\"\n",
        "  X_train, y_train, X_test, y_test = coutils.data.cifar10()\n",
        "\n",
        "  # Move all the data to the GPU\n",
        "  X_train = X_train.cuda()\n",
        "  y_train = y_train.cuda()\n",
        "  X_test = X_test.cuda()\n",
        "  y_test = y_test.cuda()\n",
        "\n",
        "  # 0. Visualize some examples from the dataset.\n",
        "  class_names = [\n",
        "      'plane', 'car', 'bird', 'cat', 'deer',\n",
        "      'dog', 'frog', 'horse', 'ship', 'truck'\n",
        "  ]\n",
        "  img = coutils.utils.visualize_dataset(X_train, y_train, 12, class_names)\n",
        "  plt.imshow(img)\n",
        "  plt.axis('off')\n",
        "  plt.show()\n",
        "\n",
        "  # 1. Normalize the data: subtract the mean RGB (zero mean)\n",
        "  mean_image = X_train.mean(dim=0, keepdim=True).mean(dim=2, keepdim=True).mean(dim=3, keepdim=True)\n",
        "  X_train -= mean_image\n",
        "  X_test -= mean_image\n",
        "\n",
        "  # 2. Reshape the image data into rows\n",
        "  X_train = X_train.reshape(X_train.shape[0], -1)\n",
        "  X_test = X_test.reshape(X_test.shape[0], -1)\n",
        "\n",
        "  # 3. Add bias dimension and transform into columns\n",
        "  ones_train = torch.ones(X_train.shape[0], 1, device=X_train.device)\n",
        "  X_train = torch.cat([X_train, ones_train], dim=1)\n",
        "  ones_test = torch.ones(X_test.shape[0], 1, device=X_test.device)\n",
        "  X_test = torch.cat([X_test, ones_test], dim=1)\n",
        "\n",
        "  # 4. Carve out part of the training set to use for validation.\n",
        "  # For random permutation, you can use torch.randperm or torch.randint\n",
        "  # But, for this homework, we use slicing instead.\n",
        "  num_training = int( X_train.shape[0] * (1.0 - validation_ratio) )\n",
        "  num_validation = X_train.shape[0] - num_training\n",
        "\n",
        "  # Return the dataset as a dictionary\n",
        "  data_dict = {}\n",
        "  data_dict['X_val'] = X_train[num_training:num_training + num_validation]\n",
        "  data_dict['y_val'] = y_train[num_training:num_training + num_validation]\n",
        "  data_dict['X_train'] = X_train[0:num_training]\n",
        "  data_dict['y_train'] = y_train[0:num_training]\n",
        "\n",
        "  data_dict['X_test'] = X_test\n",
        "  data_dict['y_test'] = y_test\n",
        "  return data_dict\n",
        "\n",
        "# Invoke the above function to get our data.\n",
        "data_dict = get_CIFAR10_data()\n",
        "print('Train data shape: ', data_dict['X_train'].shape)\n",
        "print('Train labels shape: ', data_dict['y_train'].shape)\n",
        "print('Validation data shape: ', data_dict['X_val'].shape)\n",
        "print('Validation labels shape: ', data_dict['y_val'].shape)\n",
        "print('Test data shape: ', data_dict['X_test'].shape)\n",
        "print('Test labels shape: ', data_dict['y_test'].shape)"
      ],
      "execution_count": 0,
      "outputs": [
        {
          "output_type": "error",
          "ename": "KeyboardInterrupt",
          "evalue": "ignored",
          "traceback": [
            "\u001b[0;31m---------------------------------------------------------------------------\u001b[0m",
            "\u001b[0;31mKeyboardInterrupt\u001b[0m                         Traceback (most recent call last)",
            "\u001b[0;32m<ipython-input-681-851e530202e9>\u001b[0m in \u001b[0;36m<module>\u001b[0;34m()\u001b[0m\n\u001b[1;32m     56\u001b[0m \u001b[0;34m\u001b[0m\u001b[0m\n\u001b[1;32m     57\u001b[0m \u001b[0;31m# Invoke the above function to get our data.\u001b[0m\u001b[0;34m\u001b[0m\u001b[0;34m\u001b[0m\u001b[0;34m\u001b[0m\u001b[0m\n\u001b[0;32m---> 58\u001b[0;31m \u001b[0mdata_dict\u001b[0m \u001b[0;34m=\u001b[0m \u001b[0mget_CIFAR10_data\u001b[0m\u001b[0;34m(\u001b[0m\u001b[0;34m)\u001b[0m\u001b[0;34m\u001b[0m\u001b[0;34m\u001b[0m\u001b[0m\n\u001b[0m\u001b[1;32m     59\u001b[0m \u001b[0mprint\u001b[0m\u001b[0;34m(\u001b[0m\u001b[0;34m'Train data shape: '\u001b[0m\u001b[0;34m,\u001b[0m \u001b[0mdata_dict\u001b[0m\u001b[0;34m[\u001b[0m\u001b[0;34m'X_train'\u001b[0m\u001b[0;34m]\u001b[0m\u001b[0;34m.\u001b[0m\u001b[0mshape\u001b[0m\u001b[0;34m)\u001b[0m\u001b[0;34m\u001b[0m\u001b[0;34m\u001b[0m\u001b[0m\n\u001b[1;32m     60\u001b[0m \u001b[0mprint\u001b[0m\u001b[0;34m(\u001b[0m\u001b[0;34m'Train labels shape: '\u001b[0m\u001b[0;34m,\u001b[0m \u001b[0mdata_dict\u001b[0m\u001b[0;34m[\u001b[0m\u001b[0;34m'y_train'\u001b[0m\u001b[0;34m]\u001b[0m\u001b[0;34m.\u001b[0m\u001b[0mshape\u001b[0m\u001b[0;34m)\u001b[0m\u001b[0;34m\u001b[0m\u001b[0;34m\u001b[0m\u001b[0m\n",
            "\u001b[0;32m<ipython-input-681-851e530202e9>\u001b[0m in \u001b[0;36mget_CIFAR10_data\u001b[0;34m(validation_ratio)\u001b[0m\n\u001b[1;32m      5\u001b[0m   \u001b[0mSVM\u001b[0m\u001b[0;34m,\u001b[0m \u001b[0mbut\u001b[0m \u001b[0mcondensed\u001b[0m \u001b[0mto\u001b[0m \u001b[0ma\u001b[0m \u001b[0msingle\u001b[0m \u001b[0mfunction\u001b[0m\u001b[0;34m.\u001b[0m\u001b[0;34m\u001b[0m\u001b[0;34m\u001b[0m\u001b[0m\n\u001b[1;32m      6\u001b[0m   \"\"\"\n\u001b[0;32m----> 7\u001b[0;31m   \u001b[0mX_train\u001b[0m\u001b[0;34m,\u001b[0m \u001b[0my_train\u001b[0m\u001b[0;34m,\u001b[0m \u001b[0mX_test\u001b[0m\u001b[0;34m,\u001b[0m \u001b[0my_test\u001b[0m \u001b[0;34m=\u001b[0m \u001b[0mcoutils\u001b[0m\u001b[0;34m.\u001b[0m\u001b[0mdata\u001b[0m\u001b[0;34m.\u001b[0m\u001b[0mcifar10\u001b[0m\u001b[0;34m(\u001b[0m\u001b[0;34m)\u001b[0m\u001b[0;34m\u001b[0m\u001b[0;34m\u001b[0m\u001b[0m\n\u001b[0m\u001b[1;32m      8\u001b[0m \u001b[0;34m\u001b[0m\u001b[0m\n\u001b[1;32m      9\u001b[0m   \u001b[0;31m# Move all the data to the GPU\u001b[0m\u001b[0;34m\u001b[0m\u001b[0;34m\u001b[0m\u001b[0;34m\u001b[0m\u001b[0m\n",
            "\u001b[0;32m/usr/local/lib/python3.6/dist-packages/coutils/data.py\u001b[0m in \u001b[0;36mcifar10\u001b[0;34m(num_train, num_test)\u001b[0m\n\u001b[1;32m     48\u001b[0m   \u001b[0mdset_train\u001b[0m \u001b[0;34m=\u001b[0m \u001b[0mCIFAR10\u001b[0m\u001b[0;34m(\u001b[0m\u001b[0mroot\u001b[0m\u001b[0;34m=\u001b[0m\u001b[0;34m'.'\u001b[0m\u001b[0;34m,\u001b[0m \u001b[0mdownload\u001b[0m\u001b[0;34m=\u001b[0m\u001b[0mdownload\u001b[0m\u001b[0;34m,\u001b[0m \u001b[0mtrain\u001b[0m\u001b[0;34m=\u001b[0m\u001b[0;32mTrue\u001b[0m\u001b[0;34m)\u001b[0m\u001b[0;34m\u001b[0m\u001b[0;34m\u001b[0m\u001b[0m\n\u001b[1;32m     49\u001b[0m   \u001b[0mdset_test\u001b[0m \u001b[0;34m=\u001b[0m \u001b[0mCIFAR10\u001b[0m\u001b[0;34m(\u001b[0m\u001b[0mroot\u001b[0m\u001b[0;34m=\u001b[0m\u001b[0;34m'.'\u001b[0m\u001b[0;34m,\u001b[0m \u001b[0mtrain\u001b[0m\u001b[0;34m=\u001b[0m\u001b[0;32mFalse\u001b[0m\u001b[0;34m)\u001b[0m\u001b[0;34m\u001b[0m\u001b[0;34m\u001b[0m\u001b[0m\n\u001b[0;32m---> 50\u001b[0;31m   \u001b[0mx_train\u001b[0m\u001b[0;34m,\u001b[0m \u001b[0my_train\u001b[0m \u001b[0;34m=\u001b[0m \u001b[0m_extract_tensors\u001b[0m\u001b[0;34m(\u001b[0m\u001b[0mdset_train\u001b[0m\u001b[0;34m,\u001b[0m \u001b[0mnum_train\u001b[0m\u001b[0;34m)\u001b[0m\u001b[0;34m\u001b[0m\u001b[0;34m\u001b[0m\u001b[0m\n\u001b[0m\u001b[1;32m     51\u001b[0m   \u001b[0mx_test\u001b[0m\u001b[0;34m,\u001b[0m \u001b[0my_test\u001b[0m \u001b[0;34m=\u001b[0m \u001b[0m_extract_tensors\u001b[0m\u001b[0;34m(\u001b[0m\u001b[0mdset_test\u001b[0m\u001b[0;34m,\u001b[0m \u001b[0mnum_test\u001b[0m\u001b[0;34m)\u001b[0m\u001b[0;34m\u001b[0m\u001b[0;34m\u001b[0m\u001b[0m\n\u001b[1;32m     52\u001b[0m \u001b[0;34m\u001b[0m\u001b[0m\n",
            "\u001b[0;32m/usr/local/lib/python3.6/dist-packages/coutils/data.py\u001b[0m in \u001b[0;36m_extract_tensors\u001b[0;34m(dset, num)\u001b[0m\n\u001b[1;32m     17\u001b[0m   \u001b[0;34m-\u001b[0m \u001b[0my\u001b[0m\u001b[0;34m:\u001b[0m \u001b[0mint64\u001b[0m \u001b[0mtensor\u001b[0m \u001b[0mof\u001b[0m \u001b[0mshape\u001b[0m \u001b[0;34m(\u001b[0m\u001b[0mN\u001b[0m\u001b[0;34m,\u001b[0m\u001b[0;34m)\u001b[0m\u001b[0;34m\u001b[0m\u001b[0;34m\u001b[0m\u001b[0m\n\u001b[1;32m     18\u001b[0m   \"\"\"\n\u001b[0;32m---> 19\u001b[0;31m   \u001b[0mx\u001b[0m \u001b[0;34m=\u001b[0m \u001b[0mtorch\u001b[0m\u001b[0;34m.\u001b[0m\u001b[0mtensor\u001b[0m\u001b[0;34m(\u001b[0m\u001b[0mdset\u001b[0m\u001b[0;34m.\u001b[0m\u001b[0mdata\u001b[0m\u001b[0;34m,\u001b[0m \u001b[0mdtype\u001b[0m\u001b[0;34m=\u001b[0m\u001b[0mtorch\u001b[0m\u001b[0;34m.\u001b[0m\u001b[0mfloat32\u001b[0m\u001b[0;34m)\u001b[0m\u001b[0;34m.\u001b[0m\u001b[0mpermute\u001b[0m\u001b[0;34m(\u001b[0m\u001b[0;36m0\u001b[0m\u001b[0;34m,\u001b[0m \u001b[0;36m3\u001b[0m\u001b[0;34m,\u001b[0m \u001b[0;36m1\u001b[0m\u001b[0;34m,\u001b[0m \u001b[0;36m2\u001b[0m\u001b[0;34m)\u001b[0m\u001b[0;34m.\u001b[0m\u001b[0mdiv_\u001b[0m\u001b[0;34m(\u001b[0m\u001b[0;36m255\u001b[0m\u001b[0;34m)\u001b[0m\u001b[0;34m\u001b[0m\u001b[0;34m\u001b[0m\u001b[0m\n\u001b[0m\u001b[1;32m     20\u001b[0m   \u001b[0my\u001b[0m \u001b[0;34m=\u001b[0m \u001b[0mtorch\u001b[0m\u001b[0;34m.\u001b[0m\u001b[0mtensor\u001b[0m\u001b[0;34m(\u001b[0m\u001b[0mdset\u001b[0m\u001b[0;34m.\u001b[0m\u001b[0mtargets\u001b[0m\u001b[0;34m,\u001b[0m \u001b[0mdtype\u001b[0m\u001b[0;34m=\u001b[0m\u001b[0mtorch\u001b[0m\u001b[0;34m.\u001b[0m\u001b[0mint64\u001b[0m\u001b[0;34m)\u001b[0m\u001b[0;34m\u001b[0m\u001b[0;34m\u001b[0m\u001b[0m\n\u001b[1;32m     21\u001b[0m   \u001b[0;32mif\u001b[0m \u001b[0mnum\u001b[0m \u001b[0;32mis\u001b[0m \u001b[0;32mnot\u001b[0m \u001b[0;32mNone\u001b[0m\u001b[0;34m:\u001b[0m\u001b[0;34m\u001b[0m\u001b[0;34m\u001b[0m\u001b[0m\n",
            "\u001b[0;31mKeyboardInterrupt\u001b[0m: "
          ]
        }
      ]
    },
    {
      "cell_type": "markdown",
      "metadata": {
        "colab_type": "text",
        "id": "MhOuO4zE9ONc"
      },
      "source": [
        "For Softmax and SVM, we will analytically compute the gradient, as a sanity check."
      ]
    },
    {
      "cell_type": "code",
      "metadata": {
        "colab_type": "code",
        "id": "biGULpeRxEhe",
        "colab": {}
      },
      "source": [
        "def grad_check_sparse(f, x, analytic_grad, num_checks=10, h=1e-7):\n",
        "  \"\"\"\n",
        "  Utility function to perform numeric gradient checking. We use the centered\n",
        "  difference formula to compute a numeric derivative:\n",
        "  \n",
        "  f'(x) =~ (f(x + h) - f(x - h)) / (2h)\n",
        "\n",
        "  Rather than computing a full numeric gradient, we sparsely sample a few\n",
        "  dimensions along which to compute numeric derivatives.\n",
        "\n",
        "  Inputs:\n",
        "  - f: A function that inputs a torch tensor and returns a torch scalar\n",
        "  - x: A torch tensor giving the point at which to evaluate the numeric gradient\n",
        "  - analytic_grad: A torch tensor giving the analytic gradient of f at x\n",
        "  - num_checks: The number of dimensions along which to check\n",
        "  - h: Step size for computing numeric derivatives\n",
        "  \"\"\"\n",
        "  # fix random seed for \n",
        "  coutils.utils.fix_random_seed()\n",
        "\n",
        "  for i in range(num_checks):\n",
        "    \n",
        "    ix = tuple([random.randrange(m) for m in x.shape])\n",
        "    \n",
        "    oldval = x[ix].item()\n",
        "    x[ix] = oldval + h # increment by h\n",
        "    fxph = f(x).item() # evaluate f(x + h)\n",
        "    x[ix] = oldval - h # increment by h\n",
        "    fxmh = f(x).item() # evaluate f(x - h)\n",
        "    x[ix] = oldval     # reset\n",
        "\n",
        "    grad_numerical = (fxph - fxmh) / (2 * h)\n",
        "    grad_analytic = analytic_grad[ix]\n",
        "    rel_error_top = abs(grad_numerical - grad_analytic)\n",
        "    rel_error_bot = (abs(grad_numerical) + abs(grad_analytic) + 1e-12)\n",
        "    rel_error = rel_error_top / rel_error_bot\n",
        "    msg = 'numerical: %f analytic: %f, relative error: %e'\n",
        "    print(msg % (grad_numerical, grad_analytic, rel_error))"
      ],
      "execution_count": 0,
      "outputs": []
    },
    {
      "cell_type": "markdown",
      "metadata": {
        "colab_type": "text",
        "id": "0Lvdm4fm7iJC"
      },
      "source": [
        "## SVM Classifier\n",
        "\n",
        "In this section, you will:\n",
        "    \n",
        "- implement a fully-vectorized **loss function** for the SVM\n",
        "- implement the fully-vectorized expression for its **analytic gradient**\n",
        "- **check your implementation** using numerical gradient\n",
        "- use a validation set to **tune the learning rate and regularization** strength\n",
        "- **optimize** the loss function with **SGD**\n",
        "- **visualize** the final learned weights\n"
      ]
    },
    {
      "cell_type": "code",
      "metadata": {
        "id": "7V_xOAQFNFqH",
        "colab_type": "code",
        "colab": {}
      },
      "source": [
        "print(torch.randn(2, 3).shape)\n",
        "print(torch.randn(3).shape)"
      ],
      "execution_count": 0,
      "outputs": []
    },
    {
      "cell_type": "code",
      "metadata": {
        "id": "4Ljj8KWfNT5u",
        "colab_type": "code",
        "colab": {}
      },
      "source": [
        "torch.randn(2, 3).mv(torch.randn(3))"
      ],
      "execution_count": 0,
      "outputs": []
    },
    {
      "cell_type": "code",
      "metadata": {
        "colab_type": "code",
        "id": "3CFWcoJF8hti",
        "colab": {}
      },
      "source": [
        "def svm_loss_naive(W, X, y, reg):\n",
        "  \"\"\"\n",
        "  Structured SVM loss function, naive implementation (with loops).\n",
        "\n",
        "  Inputs have dimension D, there are C classes, and we operate on minibatches\n",
        "  of N examples. When you implment the regularization over W, please DO NOT\n",
        "  multiply the regularization term by 1/2 (no coefficient). \n",
        "\n",
        "  Inputs:\n",
        "  - W: A PyTorch tensor of shape (D, C) containing weights.\n",
        "  - X: A PyTorch tensor of shape (N, D) containing a minibatch of data.\n",
        "  - y: A PyTorch tensor of shape (N,) containing training labels; y[i] = c means\n",
        "    that X[i] has label c, where 0 <= c < C.\n",
        "  - reg: (float) regularization strength\n",
        "\n",
        "  Returns a tuple of:\n",
        "  - loss as torch scalar\n",
        "  - gradient of loss with respect to weights W; a tensor of same shape as W\n",
        "  \"\"\"\n",
        "  dW = torch.zeros_like(W) # initialize the gradient as zero\n",
        "\n",
        "  # compute the loss and the gradient\n",
        "  num_classes = W.shape[1]\n",
        "  num_train = X.shape[0]\n",
        "  loss = 0.0\n",
        "  for i in range(num_train):\n",
        "    scores = W.t().mv(X[i])\n",
        "    correct_class_score = scores[y[i]]\n",
        "    for j in range(num_classes):\n",
        "      if j == y[i]:\n",
        "        continue\n",
        "      margin = scores[j] - correct_class_score + 1 # note delta = 1\n",
        "      if margin > 0:\n",
        "        loss += margin\n",
        "        #######################################################################\n",
        "        # TODO:                                                               #\n",
        "        # Compute the gradient of the loss function and store it dW. (part 1) #\n",
        "        # Rather that first computing the loss and then computing the         #\n",
        "        # derivative, it is simple to compute the derivative at the same time #\n",
        "        # that the loss is being computed.                                    #\n",
        "        #######################################################################\n",
        "        # Replace \"pass\" statement with your code\n",
        "        dW[:,y[i]] -= X[i].T\n",
        "        dW[:,j]+= X[i].T\n",
        "        #dW[:, j] += X[i]\n",
        "\n",
        "        #######################################################################\n",
        "        #                       END OF YOUR CODE                              #\n",
        "        #######################################################################\n",
        "        \n",
        "\n",
        "  # Right now the loss is a sum over all training examples, but we want it\n",
        "  # to be an average instead so we divide by num_train.\n",
        "  loss /= num_train\n",
        "  dW /= num_train\n",
        "\n",
        "  # Add regularization to the loss.\n",
        "  loss += reg * torch.sum(W * W)\n",
        "\n",
        "  #############################################################################\n",
        "  # TODO:                                                                     #\n",
        "  # Compute the gradient of the loss function and store it in dW. (part 2)    #\n",
        "  #############################################################################\n",
        "  # Replace \"pass\" statement with your code\n",
        "  dW+= 2*W*reg\n",
        "  #############################################################################\n",
        "  #                             END OF YOUR CODE                              #\n",
        "  #############################################################################\n",
        "\n",
        "  return loss, dW"
      ],
      "execution_count": 0,
      "outputs": []
    },
    {
      "cell_type": "markdown",
      "metadata": {
        "colab_type": "text",
        "id": "xTI4qN7S9aTr"
      },
      "source": [
        "Evaluate the naive implementation of the loss we provided for you. You will get around 9.000175."
      ]
    },
    {
      "cell_type": "code",
      "metadata": {
        "colab_type": "code",
        "id": "Hxzu2uZq9P8P",
        "colab": {}
      },
      "source": [
        "# generate a random SVM weight tensor of small numbers\n",
        "coutils.utils.fix_random_seed()\n",
        "W = torch.randn(3073, 10, device=data_dict['X_val'].device) * 0.0001 \n",
        "\n",
        "loss, grad = svm_loss_naive(W, data_dict['X_val'], data_dict['y_val'], 0.000005)\n",
        "print('loss: %f' % (loss, ))"
      ],
      "execution_count": 0,
      "outputs": []
    },
    {
      "cell_type": "code",
      "metadata": {
        "id": "hzw6c2j9SFlP",
        "colab_type": "code",
        "colab": {}
      },
      "source": [
        ""
      ],
      "execution_count": 0,
      "outputs": []
    },
    {
      "cell_type": "markdown",
      "metadata": {
        "colab_type": "text",
        "id": "9LbRTXJ39Yp8"
      },
      "source": [
        "The `grad` returned from the function above is right now all zero. Derive and implement the gradient for the SVM cost function and implement it inline inside the function `svm_loss_naive`. You will find it helpful to interleave your new code inside the existing function.\n",
        "\n",
        "To check that you have implemented the gradient correctly, you can numerically estimate the gradient of the loss function and compare the numeric estimate to the gradient that you computed. We have provided code that does this for you (The relative errors should be less than `1e-6`)."
      ]
    },
    {
      "cell_type": "code",
      "metadata": {
        "colab_type": "code",
        "id": "o3sMha4i9p_V",
        "colab": {}
      },
      "source": [
        "# Once you've implemented the gradient, recompute it with the code below\n",
        "# and gradient check it with the function we provided for you\n",
        "\n",
        "# Use a random W and a minibatch of data from the val set for gradient checking\n",
        "# For numeric gradient checking it is a good idea to use 64-bit floating point\n",
        "# numbers for increased numeric precision; however when actually training models\n",
        "# we usually use 32-bit floating point numbers for increased speed.\n",
        "coutils.utils.fix_random_seed()\n",
        "W = 0.0001 * torch.randn(3073, 10, device=data_dict['X_val'].device).double()\n",
        "batch_size = 64\n",
        "X_batch = data_dict['X_val'][:64].double()\n",
        "y_batch = data_dict['y_val'][:64]\n",
        "\n",
        "# Compute the loss and its gradient at W.\n",
        "loss, grad = svm_loss_naive(W.double(), X_batch, y_batch, reg=0.0) \n",
        "\n",
        "# Numerically compute the gradient along several randomly chosen dimensions, and\n",
        "# compare them with your analytically computed gradient. The numbers should\n",
        "# match almost exactly along all dimensions.\n",
        "f = lambda w: svm_loss_naive(w, X_batch, y_batch, reg=0.0)[0]\n",
        "grad_numerical = grad_check_sparse(f, W.double(), grad)"
      ],
      "execution_count": 0,
      "outputs": []
    },
    {
      "cell_type": "markdown",
      "metadata": {
        "colab_type": "text",
        "id": "lSdsG-L292Ww"
      },
      "source": [
        "Let's do the gradient check once again with regularization turned on. (You didn't forget the regularization gradient, did you?)\n",
        "\n",
        "You should see relative errors less than `1e-5`."
      ]
    },
    {
      "cell_type": "code",
      "metadata": {
        "id": "BpkOv5k6YV4t",
        "colab_type": "code",
        "colab": {}
      },
      "source": [
        "\n",
        "coutils.utils.fix_random_seed()\n",
        "W = 0.0001 * torch.randn(3073, 10, device=data_dict['X_val'].device).double()\n",
        "batch_size = 64\n",
        "X_batch = data_dict['X_val'][:64].double()\n",
        "y_batch = data_dict['y_val'][:64]\n",
        "dW = torch.zeros_like(W)"
      ],
      "execution_count": 0,
      "outputs": []
    },
    {
      "cell_type": "code",
      "metadata": {
        "id": "qoshZp3OYWJJ",
        "colab_type": "code",
        "colab": {}
      },
      "source": [
        "W.shape,X_batch,y_batch"
      ],
      "execution_count": 0,
      "outputs": []
    },
    {
      "cell_type": "code",
      "metadata": {
        "id": "F5Z_hF4AYf_s",
        "colab_type": "code",
        "colab": {}
      },
      "source": [
        "X_dot_W=X_batch.mm(W)\n",
        "mask = torch.zeros_like(X_dot_W,dtype=torch.bool)\n",
        "mask[list(range(X_batch.shape[0])),y_batch.tolist()] = True"
      ],
      "execution_count": 0,
      "outputs": []
    },
    {
      "cell_type": "code",
      "metadata": {
        "id": "oUNhpoV2YgJy",
        "colab_type": "code",
        "colab": {}
      },
      "source": [
        "X_dot_W_minus_y = X_dot_W - X_dot_W[mask].reshape(-1,1)\n",
        "X_dot_W_minus_y_plus1 = X_dot_W_minus_y +1\n",
        "X_dot_W_minus_y_plus1[mask] = 0\n",
        "torch.sum(X_dot_W_minus_y_plus1)/X_batch.shape[0]"
      ],
      "execution_count": 0,
      "outputs": []
    },
    {
      "cell_type": "code",
      "metadata": {
        "id": "pmJtn5V3YgSy",
        "colab_type": "code",
        "colab": {}
      },
      "source": [
        "\n"
      ],
      "execution_count": 0,
      "outputs": []
    },
    {
      "cell_type": "code",
      "metadata": {
        "id": "DYJ-dVe6Ygfc",
        "colab_type": "code",
        "colab": {}
      },
      "source": [
        "dW = torch.zeros_like(W)\n",
        "X_dot_W_minus_y_plus1.shape,W.shape,X_batch.shape\n"
      ],
      "execution_count": 0,
      "outputs": []
    },
    {
      "cell_type": "code",
      "metadata": {
        "id": "UWE6gmLefPEn",
        "colab_type": "code",
        "colab": {}
      },
      "source": [
        "qw = X_dot_W_minus_y_plus1.clone()\n",
        "qw[qw> 0] = 1\n",
        "\n",
        "XX = X_batch\n",
        "#dW[:,y[i]] -= X[i].T\n",
        "#dW[:,j]+= X[i].T\n",
        "qw[mask] = torch.sum(qw, axis = 1)*-1"
      ],
      "execution_count": 0,
      "outputs": []
    },
    {
      "cell_type": "code",
      "metadata": {
        "id": "yRxu3_dDxAzj",
        "colab_type": "code",
        "colab": {}
      },
      "source": [
        "qw.T.mm(X_batch).shape"
      ],
      "execution_count": 0,
      "outputs": []
    },
    {
      "cell_type": "code",
      "metadata": {
        "id": "bk-LdswmfPQA",
        "colab_type": "code",
        "colab": {}
      },
      "source": [
        ""
      ],
      "execution_count": 0,
      "outputs": []
    },
    {
      "cell_type": "code",
      "metadata": {
        "id": "QEwENYOOfPdn",
        "colab_type": "code",
        "colab": {}
      },
      "source": [
        ""
      ],
      "execution_count": 0,
      "outputs": []
    },
    {
      "cell_type": "code",
      "metadata": {
        "id": "vH4-BnsVfPqO",
        "colab_type": "code",
        "colab": {}
      },
      "source": [
        ""
      ],
      "execution_count": 0,
      "outputs": []
    },
    {
      "cell_type": "code",
      "metadata": {
        "colab_type": "code",
        "id": "bH6lXxVn9xZk",
        "colab": {}
      },
      "source": [
        "# Use a minibatch of data from the val set for gradient checking\n",
        "coutils.utils.fix_random_seed()\n",
        "W = 0.0001 * torch.randn(3073, 10, device=data_dict['X_val'].device).double()\n",
        "batch_size = 64\n",
        "X_batch = data_dict['X_val'][:64].double()\n",
        "y_batch = data_dict['y_val'][:64]\n",
        "\n",
        "# Compute the loss and its gradient at W.\n",
        "loss, grad = svm_loss_naive(W.double(), X_batch, y_batch, reg=1e3) \n",
        "\n",
        "# Numerically compute the gradient along several randomly chosen dimensions, and\n",
        "# compare them with your analytically computed gradient. The numbers should\n",
        "# match almost exactly along all dimensions.\n",
        "f = lambda w: svm_loss_naive(w, X_batch, y_batch, reg=1e3)[0]\n",
        "grad_numerical = grad_check_sparse(f, W.double(), grad)"
      ],
      "execution_count": 0,
      "outputs": []
    },
    {
      "cell_type": "markdown",
      "metadata": {
        "colab_type": "text",
        "id": "OeOlF_YJ-ApZ"
      },
      "source": [
        "Now, let's implement vectorized version of SVM: `svm_loss_vectorized`. It should compute the same inputs and outputs as the naive version before, but it should involve **no explicit loops**."
      ]
    },
    {
      "cell_type": "code",
      "metadata": {
        "colab_type": "code",
        "id": "yYrN2JA0-Aoa",
        "colab": {}
      },
      "source": [
        "def svm_loss_vectorized(W, X, y, reg):\n",
        "  \"\"\"\n",
        "  Structured SVM loss function, vectorized implementation. When you implment \n",
        "  the regularization over W, please DO NOT multiply the regularization term by \n",
        "  1/2 (no coefficient). \n",
        "\n",
        "  Inputs and outputs are the same as svm_loss_naive.\n",
        "  \"\"\"\n",
        "  loss = 0.0\n",
        "  #dW = torch.zeros_like(W) # initialize the gradient as zero\n",
        "\n",
        "  #############################################################################\n",
        "  # TODO:                                                                     #\n",
        "  # Implement a vectorized version of the structured SVM loss, storing the    #\n",
        "  # result in loss.                                                           #\n",
        "  #############################################################################\n",
        "  # Replace \"pass\" statement with your code\n",
        "  X_batch = X\n",
        "  X_dot_W=X_batch.mm(W)\n",
        "  mask = torch.zeros_like(X_dot_W,dtype=torch.bool)\n",
        "  #print(mask.shape,len(y.tolist()),X_dot_W[mask].reshape(-1,1).shape)\n",
        "  mask[list(range(X_batch.shape[0])),y.tolist()] = True\n",
        "  X_dot_W_minus_y = X_dot_W - X_dot_W[mask].reshape(-1,1)\n",
        "  X_dot_W_minus_y_plus1 = X_dot_W_minus_y +1\n",
        "  X_dot_W_minus_y_plus1[mask] = 0\n",
        "  loss = torch.sum(X_dot_W_minus_y_plus1)/X_batch.shape[0]\n",
        "  #############################################################################\n",
        "  #                             END OF YOUR CODE                              #\n",
        "  #############################################################################\n",
        "\n",
        "\n",
        "  #############################################################################\n",
        "  # TODO:                                                                     #\n",
        "  # Implement a vectorized version of the gradient for the structured SVM     #\n",
        "  # loss, storing the result in dW.                                           #\n",
        "  #                                                                           #\n",
        "  # Hint: Instead of computing the gradient from scratch, it may be easier    #\n",
        "  # to reuse some of the intermediate values that you used to compute the     #\n",
        "  # loss.                                                                     #\n",
        "  #############################################################################\n",
        "  # Replace \"pass\" statement with your code\n",
        "  dW = torch.zeros_like(W)\n",
        "  qw = X_dot_W_minus_y_plus1.clone()\n",
        "  qw[qw> 0] = 1\n",
        "  qw[mask] = torch.sum(qw, axis = 1)*-1\n",
        "  dW = qw.T.mm(X_batch).T\n",
        "  dW = dW/ X_batch.shape[0]\n",
        "\n",
        "  #############################################################################\n",
        "  #                             END OF YOUR CODE                              #\n",
        "  #############################################################################\n",
        "\n",
        "  return loss, dW"
      ],
      "execution_count": 0,
      "outputs": []
    },
    {
      "cell_type": "markdown",
      "metadata": {
        "colab_type": "text",
        "id": "sc5Wtu-e-WlI"
      },
      "source": [
        "Let's first check the speed and performance bewteen the non-vectorized and the vectorized version. You should see a speedup of more than 100x.\n",
        "\n",
        "(Note: It may have some difference, but should be less than 1e-6)"
      ]
    },
    {
      "cell_type": "code",
      "metadata": {
        "colab_type": "code",
        "id": "pBLqLTAGo1Rs",
        "colab": {}
      },
      "source": [
        "# Next implement the function svm_loss_vectorized; for now only compute the loss;\n",
        "# we will implement the gradient in a moment.\n",
        "\n",
        "# Use random weights and a minibatch of val data for gradient checking\n",
        "coutils.utils.fix_random_seed()\n",
        "W = 0.0001 * torch.randn(3073, 10, device=data_dict['X_val'].device).double()\n",
        "X_batch = data_dict['X_val'][:128].double()\n",
        "y_batch = data_dict['y_val'][:128]\n",
        "reg = 0.000005\n",
        "\n",
        "# Run and time the naive version\n",
        "torch.cuda.synchronize()\n",
        "tic = time.time()\n",
        "loss_naive, grad_naive = svm_loss_naive(W, X_batch, y_batch, reg)\n",
        "torch.cuda.synchronize()\n",
        "toc = time.time()\n",
        "ms_naive = 1000.0 * (toc - tic)\n",
        "print('Naive loss: %e computed in %.2fms' % (loss_naive, ms_naive))\n",
        "\n",
        "# Run and time the vectorized version\n",
        "torch.cuda.synchronize()\n",
        "tic = time.time()\n",
        "loss_vec, _ = svm_loss_vectorized(W, X_batch, y_batch, reg)\n",
        "torch.cuda.synchronize()\n",
        "toc = time.time()\n",
        "ms_vec = 1000.0 * (toc - tic)\n",
        "print('Vectorized loss: %e computed in %.2fms' % (loss_vec, ms_vec))\n",
        "\n",
        "# The losses should match but your vectorized implementation should be much faster.\n",
        "print('Difference: %.2e' % (loss_naive - loss_vec))\n",
        "print('Speedup: %.2fX' % (ms_naive / ms_vec))"
      ],
      "execution_count": 0,
      "outputs": []
    },
    {
      "cell_type": "code",
      "metadata": {
        "id": "wAT3vF6310Xf",
        "colab_type": "code",
        "colab": {}
      },
      "source": [
        ""
      ],
      "execution_count": 0,
      "outputs": []
    },
    {
      "cell_type": "markdown",
      "metadata": {
        "colab_type": "text",
        "id": "cRDPpAMl-0WD"
      },
      "source": [
        "Then, let's compute the gradient of the loss function. We can check the difference of gradient as well. (The error should be less than 1e-6)\n",
        "\n",
        "Now implement a vectorized version of the gradient computation in `svm_loss_vectorize` above. Run the cell below to compare the gradient of your naive and vectorized implementations. The difference between the gradients should be less than `1e-6`, and the vectorized version should run at least 100x faster.\n"
      ]
    },
    {
      "cell_type": "code",
      "metadata": {
        "colab_type": "code",
        "id": "3_SyWrTJ-OfX",
        "colab": {}
      },
      "source": [
        "# The naive implementation and the vectorized implementation should match, but\n",
        "# the vectorized version should still be much faster.\n",
        "\n",
        "# Use random weights and a minibatch of val data for gradient checking\n",
        "coutils.utils.fix_random_seed()\n",
        "W = 0.0001 * torch.randn(3073, 10, device=data_dict['X_val'].device).double()\n",
        "X_batch = data_dict['X_val'][:128].double()\n",
        "y_batch = data_dict['y_val'][:128]\n",
        "reg = 0.000005\n",
        "\n",
        "# Run and time the naive version\n",
        "torch.cuda.synchronize()\n",
        "tic = time.time()\n",
        "_, grad_naive = svm_loss_naive(W, X_batch, y_batch, 0.000005)\n",
        "torch.cuda.synchronize()\n",
        "toc = time.time()\n",
        "ms_naive = 1000.0 * (toc - tic)\n",
        "print('Naive loss and gradient: computed in %.2fms' % ms_naive)\n",
        "\n",
        "# Run and time the vectorized version\n",
        "torch.cuda.synchronize()\n",
        "tic = time.time()\n",
        "_, grad_vec = svm_loss_vectorized(W, X_batch, y_batch, 0.000005)\n",
        "torch.cuda.synchronize()\n",
        "toc = time.time()\n",
        "ms_vec = 1000.0 * (toc - tic)\n",
        "print('Vectorized loss and gradient: computed in %.2fms' % ms_vec)\n",
        "\n",
        "# The loss is a single number, so it is easy to compare the values computed\n",
        "# by the two implementations. The gradient on the other hand is a tensor, so\n",
        "# we use the Frobenius norm to compare them.\n",
        "print(grad_naive.shape,grad_vec.shape)\n",
        "grad_difference = torch.norm(grad_naive - grad_vec, p='fro')\n",
        "\n",
        "print('Gradient difference: %.2e' % grad_difference)\n",
        "print('Speedup: %.2fX' % (ms_naive / ms_vec))"
      ],
      "execution_count": 0,
      "outputs": []
    },
    {
      "cell_type": "code",
      "metadata": {
        "id": "HjnZqPfT7TYm",
        "colab_type": "code",
        "colab": {}
      },
      "source": [
        "import numpy as np"
      ],
      "execution_count": 0,
      "outputs": []
    },
    {
      "cell_type": "markdown",
      "metadata": {
        "colab_type": "text",
        "id": "uU852IitCtrC"
      },
      "source": [
        "Now that we have an efficient vectorized implementation of the SVM loss and its gradient, we can implement a training pipeline for linear classifiers.\n",
        "\n",
        "Complete the implementation of the following function:\n"
      ]
    },
    {
      "cell_type": "code",
      "metadata": {
        "colab_type": "code",
        "id": "YeRAY8TZAK22",
        "colab": {}
      },
      "source": [
        "\n",
        "def train_linear_classifier(loss_func, W, X, y, learning_rate=1e-3, \n",
        "                            reg=1e-5, num_iters=100, batch_size=200, verbose=False):\n",
        "  \"\"\"\n",
        "  Train this linear classifier using stochastic gradient descent.\n",
        "\n",
        "  Inputs:\n",
        "  - loss_func: loss function to use when training. It should take W, X, y\n",
        "    and reg as input, and output a tuple of (loss, dW)\n",
        "  - W: A PyTorch tensor of shape (D, C) giving the initial weights of the\n",
        "    classifier. If W is None then it will be initialized here.\n",
        "  - X: A PyTorch tensor of shape (N, D) containing training data; there are N\n",
        "    training samples each of dimension D.\n",
        "  - y: A PyTorch tensor of shape (N,) containing training labels; y[i] = c\n",
        "    means that X[i] has label 0 <= c < C for C classes.\n",
        "  - learning_rate: (float) learning rate for optimization.\n",
        "  - reg: (float) regularization strength.\n",
        "  - num_iters: (integer) number of steps to take when optimizing\n",
        "  - batch_size: (integer) number of training examples to use at each step.\n",
        "  - verbose: (boolean) If true, print progress during optimization.\n",
        "\n",
        "  Returns: A tuple of:\n",
        "  - W: The final value of the weight matrix and the end of optimization\n",
        "  - loss_history: A list of Python scalars giving the values of the loss at each\n",
        "    training iteration.\n",
        "  \"\"\"\n",
        "  # assume y takes values 0...K-1 where K is number of classes\n",
        "  num_classes = torch.max(y) + 1\n",
        "  num_train, dim = X.shape\n",
        "  if W is None:\n",
        "    # lazily initialize W\n",
        "    W = 0.000001 * torch.randn(dim, num_classes, device=X.device, dtype=X.dtype)\n",
        "\n",
        "  # Run stochastic gradient descent to optimize W\n",
        "  loss_history = []\n",
        "  for it in range(num_iters):\n",
        "    X_batch = None\n",
        "    y_batch = None\n",
        "    #########################################################################\n",
        "    # TODO:                                                                 #\n",
        "    # Sample batch_size elements from the training data and their           #\n",
        "    # corresponding labels to use in this round of gradient descent.        #\n",
        "    # Store the data in X_batch and their corresponding labels in           #\n",
        "    # y_batch; after sampling, X_batch should have shape (batch_size, dim)  #\n",
        "    # and y_batch should have shape (batch_size,)                           #\n",
        "    #                                                                       #\n",
        "    # Hint: Use torch.randint to generate indices.                          #\n",
        "    #########################################################################\n",
        "    # Replace \"pass\" statement with your code\n",
        "    #idexis = np.random.choice(list(range(X.shape[0])),batch_size, replace  = False)\n",
        "    #X_batch = X[idexis]\n",
        "    #y_batch = y[idexis]\n",
        "    idx = np.random.choice(range(X.shape[0]), size=batch_size)\n",
        "    X_batch, y_batch = X[idx, :], y[idx]\n",
        "    #########################################################################\n",
        "    #                       END OF YOUR CODE                                #\n",
        "    #########################################################################\n",
        "\n",
        "    # evaluate loss and gradient\n",
        "    loss, grad = loss_func(W, X_batch, y_batch, reg)\n",
        "    loss_history.append(loss.item())\n",
        "\n",
        "    # perform parameter update\n",
        "    #########################################################################\n",
        "    # TODO:                                                                 #\n",
        "    # Update the weights using the gradient and the learning rate.          #\n",
        "    #########################################################################\n",
        "    # Replace \"pass\" statement with your code\n",
        "    W -= learning_rate * grad\n",
        "    #########################################################################\n",
        "    #                       END OF YOUR CODE                                #\n",
        "    #########################################################################\n",
        "\n",
        "    if verbose and it % 100 == 0:\n",
        "      print('iteration %d / %d: loss %f' % (it, num_iters, loss))\n",
        "\n",
        "  return W, loss_history"
      ],
      "execution_count": 0,
      "outputs": []
    },
    {
      "cell_type": "code",
      "metadata": {
        "id": "jDyPAOOM7Sgm",
        "colab_type": "code",
        "colab": {}
      },
      "source": [
        ""
      ],
      "execution_count": 0,
      "outputs": []
    },
    {
      "cell_type": "markdown",
      "metadata": {
        "colab_type": "text",
        "id": "c6IL1_D9wCbF"
      },
      "source": [
        "Once you have implemented the training function, run the following cell to train a linear classifier using some default hyperparameters:\n",
        "\n",
        "(You should see a final loss close to 9.0, and your training loop should run in about two seconds)"
      ]
    },
    {
      "cell_type": "code",
      "metadata": {
        "colab_type": "code",
        "id": "QaEZkCe3-kOu",
        "colab": {}
      },
      "source": [
        "# fix random seed before we perform this operation\n",
        "coutils.utils.fix_random_seed()\n",
        "\n",
        "torch.cuda.synchronize()\n",
        "tic = time.time()\n",
        "\n",
        "W, loss_hist = train_linear_classifier(svm_loss_vectorized, None, \n",
        "                                       data_dict['X_train'], \n",
        "                                       data_dict['y_train'], \n",
        "                                       learning_rate=0.005, reg=2.5e4,\n",
        "                                       num_iters=1500, verbose=True)\n",
        "\n",
        "torch.cuda.synchronize()\n",
        "toc = time.time()\n",
        "print('That took %fs' % (toc - tic))"
      ],
      "execution_count": 0,
      "outputs": []
    },
    {
      "cell_type": "markdown",
      "metadata": {
        "colab_type": "text",
        "id": "n8mz9aXfDrsF"
      },
      "source": [
        "A useful debugging strategy is to plot the loss as a function of iteration number. In this case it seems our hyperparameters are not good, since the training loss is not decreasing very fast.\n",
        "\n"
      ]
    },
    {
      "cell_type": "code",
      "metadata": {
        "colab_type": "code",
        "id": "JJ8GjaZS_MLe",
        "colab": {}
      },
      "source": [
        "plt.plot(loss_hist, 'o')\n",
        "plt.xlabel('Iteration number')\n",
        "plt.ylabel('Loss value')\n",
        "plt.show()"
      ],
      "execution_count": 0,
      "outputs": []
    },
    {
      "cell_type": "markdown",
      "metadata": {
        "colab_type": "text",
        "id": "hBzZNGNoD18s"
      },
      "source": [
        "Let's move on to the prediction stage:"
      ]
    },
    {
      "cell_type": "code",
      "metadata": {
        "colab_type": "code",
        "id": "UdvAk57DD0xT",
        "colab": {}
      },
      "source": [
        "def predict_linear_classifier(W, X):\n",
        "  \"\"\"\n",
        "  Use the trained weights of this linear classifier to predict labels for\n",
        "  data points.\n",
        "\n",
        "  Inputs:\n",
        "  - W: A PyTorch tensor of shape (D, C), containing weights of a model\n",
        "  - X: A PyTorch tensor of shape (N, D) containing training data; there are N\n",
        "    training samples each of dimension D.\n",
        "\n",
        "  Returns:\n",
        "  - y_pred: PyTorch int64 tensor of shape (N,) giving predicted labels for each\n",
        "    elemment of X. Each element of y_pred should be between 0 and C - 1.\n",
        "  \"\"\"\n",
        "  y_pred = torch.zeros(X.shape[0])\n",
        "  ###########################################################################\n",
        "  # TODO:                                                                   #\n",
        "  # Implement this method. Store the predicted labels in y_pred.            #\n",
        "  ###########################################################################\n",
        "  # Replace \"pass\" statement with your code\n",
        "  X_dot_W =X.mm(W)\n",
        "  values, indicies = torch.max(X_dot_W, dim = 1)\n",
        "  #y_pred = torch.max(X.mm(W), dim = 1)\n",
        "  #print(indicies.shape)\n",
        "  y_pred = indicies\n",
        "  ###########################################################################\n",
        "  #                           END OF YOUR CODE                              #\n",
        "  ###########################################################################\n",
        "  return y_pred"
      ],
      "execution_count": 0,
      "outputs": []
    },
    {
      "cell_type": "markdown",
      "metadata": {
        "colab_type": "text",
        "id": "DRdfknKsE6F2"
      },
      "source": [
        "Then, let's evaluate the performance our trained model on both the training and validation set. You should see validation accuracy less than 10%."
      ]
    },
    {
      "cell_type": "code",
      "metadata": {
        "colab_type": "code",
        "id": "YfToPzce_OBH",
        "colab": {}
      },
      "source": [
        "# evaluate the performance on both the training and validation set\n",
        "y_train_pred = predict_linear_classifier(W, data_dict['X_train'])\n",
        "train_acc = 100.0 * (data_dict['y_train'] == y_train_pred).float().mean().item()\n",
        "print('Training accuracy: %.2f%%' % train_acc)\n",
        "y_val_pred = predict_linear_classifier(W, data_dict['X_val'])\n",
        "val_acc = 100.0 * (data_dict['y_val'] == y_val_pred).float().mean().item()\n",
        "print('Validation accuracy: %.2f%%' % val_acc)"
      ],
      "execution_count": 0,
      "outputs": []
    },
    {
      "cell_type": "markdown",
      "metadata": {
        "colab_type": "text",
        "id": "VWIyGnMOFOV8"
      },
      "source": [
        "Unfortunately, the performance of our initial model is quite bad. To find a better hyperparamters, let's first modulize the functions that we've implemented."
      ]
    },
    {
      "cell_type": "code",
      "metadata": {
        "colab_type": "code",
        "id": "A1SfNxVs8OBv",
        "colab": {}
      },
      "source": [
        "# Note: We will re-use `LinearClassifier' in Softmax section\n",
        "class LinearClassifier(object):\n",
        "  \n",
        "  def __init__(self):\n",
        "    self.W = None\n",
        "    \n",
        "  def train(self, X_train, y_train, learning_rate=1e-3, reg=1e-5, num_iters=100,\n",
        "            batch_size=200, verbose=False):\n",
        "    train_args = (self.loss, self.W, X_train, y_train, learning_rate, reg,\n",
        "                  num_iters, batch_size, verbose)\n",
        "    self.W, loss_history = train_linear_classifier(*train_args)\n",
        "    return loss_history\n",
        "\n",
        "  def predict(self, X):\n",
        "    return predict_linear_classifier(self.W, X) \n",
        "  \n",
        "  def loss(self, W, X_batch, y_batch, reg):\n",
        "    \"\"\"\n",
        "    Compute the loss function and its derivative. \n",
        "    Subclasses will override this.\n",
        "\n",
        "    Inputs:\n",
        "    - W: A PyTorch tensor of shape (D, C) containing (trained) weight of a model.\n",
        "    - X_batch: A PyTorch tensor of shape (N, D) containing a minibatch of N\n",
        "      data points; each point has dimension D.\n",
        "    - y_batch: A PyTorch tensor of shape (N,) containing labels for the minibatch.\n",
        "    - reg: (float) regularization strength.\n",
        "\n",
        "    Returns: A tuple containing:\n",
        "    - loss as a single float\n",
        "    - gradient with respect to self.W; an tensor of the same shape as W\n",
        "    \"\"\"\n",
        "    pass\n",
        "  def _loss(self, X_batch, y_batch, reg):\n",
        "    self.loss(self.W, X_batch, y_batch, reg)\n",
        "\n",
        "  \n",
        "class LinearSVM(LinearClassifier):\n",
        "  \"\"\" A subclass that uses the Multiclass SVM loss function \"\"\"\n",
        "  def loss(self, W, X_batch, y_batch, reg):\n",
        "    return svm_loss_vectorized(W, X_batch, y_batch, reg)"
      ],
      "execution_count": 0,
      "outputs": []
    },
    {
      "cell_type": "code",
      "metadata": {
        "id": "jFZxeAKvG6T6",
        "colab_type": "code",
        "colab": {}
      },
      "source": [
        "X_batch = data_dict['X_val']\n",
        "y_batch = data_dict['y_val']\n",
        "  data_dict['X_val'] = X_train[num_training:num_training + num_validation]\n",
        "  data_dict['y_val'] = y_train[num_training:num_training + num_validation]\n",
        "  data_dict['X_train'] = X_train[0:num_training]\n",
        "  data_dict['y_train'] = y_train[0:num_training]\n",
        "\n",
        "  data_dict['X_test'] = X_test\n",
        "  data_dict['y_test'] = y_test"
      ],
      "execution_count": 0,
      "outputs": []
    },
    {
      "cell_type": "code",
      "metadata": {
        "id": "aU241fitIjl1",
        "colab_type": "code",
        "colab": {}
      },
      "source": [
        "X_train = data_dict['X_train'] \n",
        "y_train = data_dict['y_train']\n",
        "y_val = data_dict['y_val']\n",
        "X_val = data_dict['X_val']"
      ],
      "execution_count": 0,
      "outputs": []
    },
    {
      "cell_type": "code",
      "metadata": {
        "id": "mBKp7OE4Kvky",
        "colab_type": "code",
        "colab": {}
      },
      "source": [
        "a = torch.tensor([2,2])"
      ],
      "execution_count": 0,
      "outputs": []
    },
    {
      "cell_type": "code",
      "metadata": {
        "id": "yyXa4zIOKy2D",
        "colab_type": "code",
        "colab": {}
      },
      "source": [
        "a.numpy()\n"
      ],
      "execution_count": 0,
      "outputs": []
    },
    {
      "cell_type": "code",
      "metadata": {
        "id": "4lOGmNz5KzCb",
        "colab_type": "code",
        "colab": {}
      },
      "source": [
        ""
      ],
      "execution_count": 0,
      "outputs": []
    },
    {
      "cell_type": "markdown",
      "metadata": {
        "colab_type": "text",
        "id": "taNmjt2wGJQr"
      },
      "source": [
        "Now, please use the validation set to tune hyperparameters (regularization strength and learning rate). You should experiment with different ranges for the learning rates and regularization strengths.\n",
        "\n",
        "To get full credit for the assignment your best model found through cross-validation should achieve an accuracy of at least 37% on the validation set.\n",
        "\n",
        "(Our best model got over 40% -- did you beat us?)"
      ]
    },
    {
      "cell_type": "code",
      "metadata": {
        "colab_type": "code",
        "id": "oVMsJ9Ti_Ude",
        "colab": {}
      },
      "source": [
        "# results is dictionary mapping tuples of the form\n",
        "# (learning_rate, regularization_strength) to tuples of the form\n",
        "# (training_accuracy, validation_accuracy). The accuracy is simply the fraction\n",
        "# of data points that are correctly classified.\n",
        "results = {}\n",
        "best_val = -1   # The highest validation accuracy that we have seen so far.\n",
        "best_svm = None # The LinearSVM object that achieved the highest validation rate.\n",
        "learning_rates = np.linspace(1.5e-7, 3e-7, 10)\n",
        "regularization_strengths = np.linspace(0.5e3, 2e4, 10)\n",
        "\n",
        "################################################################################\n",
        "# TODO:                                                                        #\n",
        "# Write code that chooses the best hyperparameters by tuning on the validation #\n",
        "# set. For each combination of hyperparameters, train a linear SVM on the      #\n",
        "# training set, compute its accuracy on the training and validation sets, and  #\n",
        "# store these numbers in the results dictionary. In addition, store the best   #\n",
        "# validation accuracy in best_val and the LinearSVM object that achieves this  #\n",
        "# accuracy in best_svm.                                                        #\n",
        "#                                                                              #\n",
        "# Hint: You should use a small value for num_iters as you develop your         #\n",
        "# validation code so that the SVMs don't take much time to train; once you are #\n",
        "# confident that your validation code works, you should rerun the validation   #\n",
        "# code with a larger value for num_iters.                                      #\n",
        "################################################################################\n",
        "# Replace \"pass\" statement with your code\n",
        "for lr in learning_rates:\n",
        "    for reg in regularization_strengths:\n",
        "        svm = LinearSVM()\n",
        "        _ = svm.train(X_train, y_train, learning_rate=lr, \n",
        "                      reg=reg,\n",
        "                      num_iters=1500, verbose=False)\n",
        "        y_train_pred = svm.predict(X_train)\n",
        "        y_tra_p = y_train_pred.cpu()\n",
        "        y_train_pred = y_tra_p.numpy()\n",
        "        train_acc = np.mean(y_train == y_train_pred)\n",
        "        y_val_pred = svm.predict(X_val)\n",
        "        y_val_p = y_val_pred.cpu()\n",
        "        y_val_pred = y_val_p.numpy()\n",
        "        val_acc = np.mean(y_val == y_val_pred)\n",
        "        results[(lr, reg)] = (train_acc, val_acc)\n",
        "        if val_acc > best_val:\n",
        "            best_val = val_acc\n",
        "            best_svm = svm\n",
        "################################################################################\n",
        "#                              END OF YOUR CODE                                #\n",
        "################################################################################\n",
        "    \n",
        "# Print out results.\n",
        "for lr, reg in sorted(results):\n",
        "  train_accuracy, val_accuracy = results[(lr, reg)]\n",
        "  print('lr %e reg %e train accuracy: %f val accuracy: %f' % (\n",
        "         lr, reg, train_accuracy, val_accuracy))\n",
        "    \n",
        "print('best validation accuracy achieved during cross-validation: %f' % best_val)"
      ],
      "execution_count": 0,
      "outputs": []
    },
    {
      "cell_type": "code",
      "metadata": {
        "id": "fcTNCFClSPWF",
        "colab_type": "code",
        "colab": {}
      },
      "source": [
        "results"
      ],
      "execution_count": 0,
      "outputs": []
    },
    {
      "cell_type": "markdown",
      "metadata": {
        "colab_type": "text",
        "id": "wBbvJvMeGZ-7"
      },
      "source": [
        "Visualize the cross-validation results. You can use this as a debugging tool -- after examining the cross-validation results here, you may want to go back and rerun your cross-validation from above."
      ]
    },
    {
      "cell_type": "code",
      "metadata": {
        "colab_type": "code",
        "id": "QbPffK9H_ZGj",
        "colab": {}
      },
      "source": [
        "x_scatter = [math.log10(x[0]) for x in results]\n",
        "y_scatter = [math.log10(x[1]) for x in results]\n",
        "\n",
        "# plot training accuracy\n",
        "marker_size = 100\n",
        "colors = [results[x][0] for x in results]\n",
        "plt.scatter(x_scatter, y_scatter, marker_size, c=colors, cmap='viridis')\n",
        "plt.colorbar()\n",
        "plt.xlabel('log learning rate')\n",
        "plt.ylabel('log regularization strength')\n",
        "plt.title('CIFAR-10 training accuracy')\n",
        "plt.gcf().set_size_inches(8, 5)\n",
        "plt.show()\n",
        "\n",
        "# plot validation accuracy\n",
        "colors = [results[x][1] for x in results] # default size of markers is 20\n",
        "plt.scatter(x_scatter, y_scatter, marker_size, c=colors, cmap='viridis')\n",
        "plt.colorbar()\n",
        "plt.xlabel('log learning rate')\n",
        "plt.ylabel('log regularization strength')\n",
        "plt.title('CIFAR-10 validation accuracy')\n",
        "plt.gcf().set_size_inches(8, 5)\n",
        "plt.show()"
      ],
      "execution_count": 0,
      "outputs": []
    },
    {
      "cell_type": "code",
      "metadata": {
        "id": "zLJF9s6eUGdV",
        "colab_type": "code",
        "colab": {}
      },
      "source": [
        "svm = LinearSVM()\n",
        "_ = svm.train(X_train, y_train,  learning_rate=0.005, reg=2.5e4,num_iters=3000, verbose=False)"
      ],
      "execution_count": 0,
      "outputs": []
    },
    {
      "cell_type": "markdown",
      "metadata": {
        "colab_type": "text",
        "id": "MCMVzxquGf1O"
      },
      "source": [
        "Evaluate the best svm on test set. To get full credit for the assignment you should achieve a test-set accuracy above 35%.\n",
        "\n",
        "(Our best was over 38% -- did you beat us?)"
      ]
    },
    {
      "cell_type": "code",
      "metadata": {
        "colab_type": "code",
        "id": "maJ7use3_soL",
        "colab": {}
      },
      "source": [
        "y_test_pred = svm.predict(data_dict['X_test'])\n",
        "test_accuracy = torch.mean((data_dict['y_test'] == y_test_pred).float())\n",
        "print('linear SVM on raw pixels final test set accuracy: %f' % test_accuracy)"
      ],
      "execution_count": 0,
      "outputs": []
    },
    {
      "cell_type": "markdown",
      "metadata": {
        "colab_type": "text",
        "id": "I-QVIG4fGiqJ"
      },
      "source": [
        "Visualize the learned weights for each class. Depending on your choice of learning rate and regularization strength, these may or may not be nice to look at."
      ]
    },
    {
      "cell_type": "code",
      "metadata": {
        "colab_type": "code",
        "id": "McLHYtFd_vSI",
        "colab": {}
      },
      "source": [
        "w = svm.W[:-1,:] # strip out the bias\n",
        "w = w.reshape(3, 32, 32, 10)\n",
        "w = w.transpose(0, 2).transpose(1, 0)\n",
        "\n",
        "w_min, w_max = torch.min(w), torch.max(w)\n",
        "classes = ['plane', 'car', 'bird', 'cat', 'deer', 'dog', 'frog', 'horse', 'ship', 'truck']\n",
        "for i in range(10):\n",
        "  plt.subplot(2, 5, i + 1)\n",
        "\n",
        "  # Rescale the weights to be between 0 and 255\n",
        "  wimg = 255.0 * (w[:, :, :, i].squeeze() - w_min) / (w_max - w_min)\n",
        "  plt.imshow(wimg.type(torch.uint8).cpu())\n",
        "  plt.axis('off')\n",
        "  plt.title(classes[i])"
      ],
      "execution_count": 0,
      "outputs": []
    },
    {
      "cell_type": "markdown",
      "metadata": {
        "colab_type": "text",
        "id": "DkuwyMY27RxS"
      },
      "source": [
        "## Softmax Classifier\n",
        "\n",
        "Similar to the SVM, you will:\n",
        "\n",
        "- implement a fully-vectorized **loss function** for the Softmax classifier\n",
        "- implement the fully-vectorized expression for its **analytic gradient**\n",
        "- **check your implementation** with numerical gradient\n",
        "- use a validation set to **tune the learning rate and regularization** strength\n",
        "- **optimize** the loss function with **SGD**\n",
        "- **visualize** the final learned weights"
      ]
    },
    {
      "cell_type": "code",
      "metadata": {
        "id": "Qrddhgtcx-9Y",
        "colab_type": "code",
        "colab": {}
      },
      "source": [
        "def softmax_loss_naive3(w, x, y, reg):\n",
        "    loss = 0.0\n",
        "    dw = torch.zeros_like(w)\n",
        "\n",
        "    num_classes = w.shape[1]\n",
        "    num_train = x.shape[0]\n",
        "    \n",
        "    scores = W.t().mv(x[0])\n",
        "    correct_class_score = scores[y[0]]\n",
        "    #print(scores,correct_class_score)\n",
        "    #print(-correct_class_score  + torch.log(torch.exp(scores).sum()))\n",
        "\n",
        "    for i in range(num_train):\n",
        "        scores = W.t().mv(x[i])\n",
        "        correct_class_score = scores[y[i]]\n",
        "        loss += -correct_class_score  + torch.log(torch.exp(scores).sum())\n",
        "        for j in range(num_classes):\n",
        "          if j == y[i]:\n",
        "            dw[:, j] += torch.exp(scores[j]) / torch.exp(scores).sum() * x[i, :] - x[i, :]\n",
        "          else:\n",
        "            dw[:, j] += torch.exp(scores[j]) / torch.exp(scores).sum() * x[i, :]\n",
        "        #dw[:, y[i]] -= x[i, :]\n",
        "    loss /= num_train\n",
        "    loss += reg * torch.sum(w * w)\n",
        "\n",
        "    dw /= num_train\n",
        "    dw += 2 * reg * w\n",
        "\n",
        "\n",
        "    return loss, dw"
      ],
      "execution_count": 0,
      "outputs": []
    },
    {
      "cell_type": "code",
      "metadata": {
        "id": "Ua0WR3rk2k37",
        "colab_type": "code",
        "colab": {}
      },
      "source": [
        ""
      ],
      "execution_count": 0,
      "outputs": []
    },
    {
      "cell_type": "code",
      "metadata": {
        "id": "e-XpS11r7DOU",
        "colab_type": "code",
        "colab": {}
      },
      "source": [
        "torch.set_printoptions(precision=20)\n"
      ],
      "execution_count": 0,
      "outputs": []
    },
    {
      "cell_type": "markdown",
      "metadata": {
        "colab_type": "text",
        "id": "hLJMVGtvIgo3"
      },
      "source": [
        "First, let's start from implementing the naive softmax loss function with nested loops.\n"
      ]
    },
    {
      "cell_type": "code",
      "metadata": {
        "colab_type": "code",
        "id": "w3MDCs7Cwss8",
        "colab": {}
      },
      "source": [
        "coutils.utils.fix_random_seed()\n",
        "W = 0.0001 * torch.randn(3073, 10, device=data_dict['X_val'].device).double()\n",
        "X_batch = data_dict['X_val'][:128].double()\n",
        "y_batch = data_dict['y_val'][:128]\n",
        "loss, grad = softmax_loss_naive3(W, X_batch, y_batch, reg=0.0)\n",
        "loss2, grad2 = softmax_loss_naive4(W, X_batch, y_batch, reg=0.0)"
      ],
      "execution_count": 0,
      "outputs": []
    },
    {
      "cell_type": "code",
      "metadata": {
        "id": "1FGDBEOs7CY-",
        "colab_type": "code",
        "colab": {}
      },
      "source": [
        "loss"
      ],
      "execution_count": 0,
      "outputs": []
    },
    {
      "cell_type": "code",
      "metadata": {
        "id": "vOjnLN-jrloA",
        "colab_type": "code",
        "colab": {}
      },
      "source": [
        "loss2"
      ],
      "execution_count": 0,
      "outputs": []
    },
    {
      "cell_type": "code",
      "metadata": {
        "id": "wPysRQ4TbzwQ",
        "colab_type": "code",
        "colab": {}
      },
      "source": [
        ""
      ],
      "execution_count": 0,
      "outputs": []
    },
    {
      "cell_type": "markdown",
      "metadata": {
        "colab_type": "text",
        "id": "cER8fiSq7Ys-"
      },
      "source": [
        "As a sanity check to see whether we have implemented the loss correctly, run the softmax classifier with a small random weight matrix and no regularization. You should see loss near log(10) = 2.3"
      ]
    },
    {
      "cell_type": "code",
      "metadata": {
        "colab_type": "code",
        "id": "V9q77O7F7VI6",
        "colab": {}
      },
      "source": [
        "# Generate a random softmax weight tensor and use it to compute the loss.\n",
        "coutils.utils.fix_random_seed()\n",
        "W = 0.0001 * torch.randn(3073, 10, device=data_dict['X_val'].device).double()\n",
        "\n",
        "X_batch = data_dict['X_val'][:128].double()\n",
        "y_batch = data_dict['y_val'][:128]\n",
        "\n",
        "# Complete the implementation of softmax_loss_naive and implement a (naive)\n",
        "# version of the gradient that uses nested loops.\n",
        "loss, grad = softmax_loss_vectorized(W, X_batch, y_batch, reg=0.0)\n",
        "\n",
        "# As a rough sanity check, our loss should be something close to log(10.0).\n",
        "print('loss: %f' % loss)\n",
        "print('sanity check: %f' % (math.log(10.0)))"
      ],
      "execution_count": 0,
      "outputs": []
    },
    {
      "cell_type": "code",
      "metadata": {
        "id": "CP60SBEqdCMv",
        "colab_type": "code",
        "colab": {}
      },
      "source": [
        ""
      ],
      "execution_count": 0,
      "outputs": []
    },
    {
      "cell_type": "code",
      "metadata": {
        "id": "uCIrHL_D3K7x",
        "colab_type": "code",
        "colab": {}
      },
      "source": [
        ""
      ],
      "execution_count": 0,
      "outputs": []
    },
    {
      "cell_type": "code",
      "metadata": {
        "id": "cdFpiIhA3LgD",
        "colab_type": "code",
        "colab": {}
      },
      "source": [
        ""
      ],
      "execution_count": 0,
      "outputs": []
    },
    {
      "cell_type": "code",
      "metadata": {
        "id": "FxRqWmyG3Lsm",
        "colab_type": "code",
        "colab": {}
      },
      "source": [
        ""
      ],
      "execution_count": 0,
      "outputs": []
    },
    {
      "cell_type": "markdown",
      "metadata": {
        "colab_type": "text",
        "id": "5QJzUHl5I0HH"
      },
      "source": [
        "Next, we use gradient checking to debug the analytic gradient of our naive softmax loss function. If you've implemented the gradient correctly, you should see relative errors less than `1e-6`.\n"
      ]
    },
    {
      "cell_type": "code",
      "metadata": {
        "colab_type": "code",
        "id": "Lj6YpN3q1hVG",
        "colab": {}
      },
      "source": [
        "coutils.utils.fix_random_seed()\n",
        "W = 0.0001 * torch.randn(3073, 10, device=data_dict['X_val'].device).double()\n",
        "X_batch = data_dict['X_val'][:128].double()\n",
        "y_batch = data_dict['y_val'][:128]\n",
        "\n",
        "loss, grad = softmax_loss_naive3(W, X_batch, y_batch, reg=0.0)\n",
        "\n",
        "f = lambda w: softmax_loss_naive3(w, X_batch, y_batch, reg=0.0)[0]\n",
        "grad_check_sparse(f, W, grad, 10)"
      ],
      "execution_count": 0,
      "outputs": []
    },
    {
      "cell_type": "markdown",
      "metadata": {
        "colab_type": "text",
        "id": "cFcgeajBI-L3"
      },
      "source": [
        "Let's perform another gradient check with regularization enabled. Again you should see relative errors less than `1e-6`."
      ]
    },
    {
      "cell_type": "code",
      "metadata": {
        "colab_type": "code",
        "id": "Ik0i21sszZzg",
        "colab": {}
      },
      "source": [
        "coutils.utils.fix_random_seed()\n",
        "W = 0.0001 * torch.randn(3073, 10, device=data_dict['X_val'].device).double()\n",
        "reg = 10.0\n",
        "\n",
        "X_batch = data_dict['X_val'][:128].double()\n",
        "y_batch = data_dict['y_val'][:128]\n",
        "\n",
        "loss, grad = softmax_loss_naive(W, X_batch, y_batch, reg)\n",
        "\n",
        "f = lambda w: softmax_loss_naive(w, X_batch, y_batch, reg)[0]\n",
        "grad_check_sparse(f, W, grad, 10)"
      ],
      "execution_count": 0,
      "outputs": []
    },
    {
      "cell_type": "code",
      "metadata": {
        "id": "6zwM4wDbIU-B",
        "colab_type": "code",
        "colab": {}
      },
      "source": [
        "coutils.utils.fix_random_seed()\n",
        "W = 0.0001 * torch.randn(3073, 10, device=data_dict['X_val'].device).double()\n",
        "reg = 10.0\n",
        "\n",
        "X_batch = data_dict['X_val'][:128].double()\n",
        "y_batch = data_dict['y_val'][:128]\n"
      ],
      "execution_count": 0,
      "outputs": []
    },
    {
      "cell_type": "code",
      "metadata": {
        "id": "KriN-5WtIX6V",
        "colab_type": "code",
        "colab": {}
      },
      "source": [
        "coutils.utils.fix_random_seed()\n",
        "W = 0.0001 * torch.randn(3073, 10, device=data_dict['X_val'].device).double()\n",
        "reg = 10.0\n",
        "\n",
        "X_batch = data_dict['X_val'][:128].double()\n",
        "y_batch = data_dict['y_val'][:128]\n"
      ],
      "execution_count": 0,
      "outputs": []
    },
    {
      "cell_type": "code",
      "metadata": {
        "id": "rBpgFeQnIbCH",
        "colab_type": "code",
        "colab": {}
      },
      "source": [
        "print(W.shape,X_batch.shape,y_batch.shape)"
      ],
      "execution_count": 0,
      "outputs": []
    },
    {
      "cell_type": "code",
      "metadata": {
        "id": "zur_qLxrIbWe",
        "colab_type": "code",
        "colab": {}
      },
      "source": [
        "X_dot_W = X_batch.mm(W)"
      ],
      "execution_count": 0,
      "outputs": []
    },
    {
      "cell_type": "code",
      "metadata": {
        "id": "fQDUZymhIbnT",
        "colab_type": "code",
        "outputId": "6320f505-afd2-4544-9f79-851abbe24e00",
        "colab": {
          "base_uri": "https://localhost:8080/",
          "height": 35
        }
      },
      "source": [
        "print(X_dot_W.shape,W.shape,y_batch.shape)"
      ],
      "execution_count": 0,
      "outputs": [
        {
          "output_type": "stream",
          "text": [
            "torch.Size([128, 10]) torch.Size([3073, 10]) torch.Size([128])\n"
          ],
          "name": "stdout"
        }
      ]
    },
    {
      "cell_type": "code",
      "metadata": {
        "id": "WJpdhEgDKREt",
        "colab_type": "code",
        "colab": {}
      },
      "source": [
        "exp_doted = torch.exp(X_dot_W)"
      ],
      "execution_count": 0,
      "outputs": []
    },
    {
      "cell_type": "code",
      "metadata": {
        "id": "yvWR776vOmzm",
        "colab_type": "code",
        "colab": {}
      },
      "source": [
        "exp_ove_sum = exp_doted.T/ torch.sum(torch.exp(X_dot_W),dim = 1)"
      ],
      "execution_count": 0,
      "outputs": []
    },
    {
      "cell_type": "code",
      "metadata": {
        "id": "uJ3qZ0OEOnDh",
        "colab_type": "code",
        "colab": {}
      },
      "source": [
        "dw = exp_ove_sum.mm(X_batch)"
      ],
      "execution_count": 0,
      "outputs": []
    },
    {
      "cell_type": "code",
      "metadata": {
        "id": "kBMlneS9OnQ1",
        "colab_type": "code",
        "outputId": "7aab8ee2-f8ad-4413-c4a7-175282b2cefe",
        "colab": {
          "base_uri": "https://localhost:8080/",
          "height": 35
        }
      },
      "source": [
        "dw.shape"
      ],
      "execution_count": 0,
      "outputs": [
        {
          "output_type": "execute_result",
          "data": {
            "text/plain": [
              "torch.Size([10, 3073])"
            ]
          },
          "metadata": {
            "tags": []
          },
          "execution_count": 707
        }
      ]
    },
    {
      "cell_type": "markdown",
      "metadata": {
        "colab_type": "text",
        "id": "JQgRzrdRJAm7"
      },
      "source": [
        "Then, let's move on to the vectorized form"
      ]
    },
    {
      "cell_type": "code",
      "metadata": {
        "colab_type": "code",
        "id": "bYlTPinzwv3x",
        "colab": {}
      },
      "source": [
        "def softmax_loss_vectorized(w, x, y, reg):\n",
        "  \"\"\"\n",
        "  Softmax loss function, vectorized version.  When you implment the \n",
        "  regularization over W, please DO NOT multiply the regularization term by 1/2 \n",
        "  (no coefficient). \n",
        "\n",
        "  Inputs and outputs are the same as softmax_loss_naive.\n",
        "  \"\"\"\n",
        "  # Initialize the loss and gradient to zero.\n",
        "  loss = 0.0\n",
        "  dw = torch.zeros_like(w)\n",
        "\n",
        "  #############################################################################\n",
        "  # TODO: Compute the softmax loss and its gradient using no explicit loops.  #\n",
        "  # Store the loss in loss and the gradient in dW. If you are not careful     #\n",
        "  # here, it is easy to run into numeric instability (Check Numeric Stability #\n",
        "  # in http://cs231n.github.io/linear-classify/). Don't forget the            #\n",
        "  # regularization!                                                           #\n",
        "  num_classes = w.shape[1]\n",
        "  num_train = x.shape[0]\n",
        "  X_dot_W = x.mm(w)\n",
        "  _x =  torch.sum(X_dot_W[range(X_dot_W.shape[0]),y_batch.tolist()])\n",
        "  loss = - _x + torch.sum(torch.log(torch.sum(torch.exp(X_dot_W),dim = 1)))\n",
        "\n",
        "    #for i in range(num_train):\n",
        "    #    scores = W.t().mv(x[i])\n",
        "     #   correct_class_score = scores[y[i]]\n",
        "      #  loss += -correct_class_score  + torch.log(torch.exp(scores).sum())\n",
        "       # for j in range(num_classes):\n",
        "        #  if j == y[i]:\n",
        "         #   dw[:, j] += torch.exp(scores[j]) / torch.exp(scores).sum() * x[i, :] - x[i, :]\n",
        "         # else:\n",
        "          #  dw[:, j] += torch.exp(scores[j]) / torch.exp(scores).sum() * x[i, :]\n",
        "        #dw[:, y[i]] -= x[i, :]\n",
        "  loss /= num_train\n",
        "  loss += reg * torch.sum(w * w)\n",
        "\n",
        "  dw /= num_train\n",
        "  dw += 2 * reg * w\n",
        "\n",
        "  #############################################################################\n",
        "  #                          END OF YOUR CODE                                 #\n",
        "  #############################################################################\n",
        "\n",
        "  return loss, dW"
      ],
      "execution_count": 0,
      "outputs": []
    },
    {
      "cell_type": "markdown",
      "metadata": {
        "colab_type": "text",
        "id": "88xZ0rbLJGKV"
      },
      "source": [
        "Now that we have a naive implementation of the softmax loss function and its gradient, implement a vectorized version in softmax_loss_vectorized. The two versions should compute the same results, but the vectorized version should be much faster.\n",
        "\n",
        "The differences between the naive and vectorized losses and gradients should both be less than `1e-6`, and your vectorized implementation should be at least 100x faster than the naive implementation."
      ]
    },
    {
      "cell_type": "code",
      "metadata": {
        "colab_type": "code",
        "id": "lGNAe-oP1dds",
        "colab": {}
      },
      "source": [
        "coutils.utils.fix_random_seed()\n",
        "W = 0.0001 * torch.randn(3073, 10, device=data_dict['X_val'].device)\n",
        "reg = 0.05\n",
        "\n",
        "X_batch = data_dict['X_val'][:128]\n",
        "y_batch = data_dict['y_val'][:128]\n",
        "\n",
        "# Run and time the naive version\n",
        "torch.cuda.synchronize()\n",
        "tic = time.time()\n",
        "loss_naive, grad_naive = softmax_loss_naive(W, X_batch, y_batch, reg)\n",
        "torch.cuda.synchronize()\n",
        "toc = time.time()\n",
        "ms_naive = 1000.0 * (toc - tic)\n",
        "print('naive loss: %e computed in %fs' % (loss_naive, ms_naive))\n",
        "\n",
        "# Run and time the vectorized version\n",
        "torch.cuda.synchronize()\n",
        "tic = time.time()\n",
        "loss_vec, grad_vec = softmax_loss_vectorized(W, X_batch, y_batch, reg)\n",
        "torch.cuda.synchronize()\n",
        "toc = time.time()\n",
        "ms_vec = 1000.0 * (toc - tic)\n",
        "print('vectorized loss: %e computed in %fs' % (loss_vec, ms_vec))\n",
        "\n",
        "# we use the Frobenius norm to compare the two versions of the gradient.\n",
        "loss_diff = (loss_naive - loss_vec).abs().item()\n",
        "grad_diff = torch.norm(grad_naive - grad_vec, p='fro')\n",
        "print('Loss difference: %.2e' % loss_diff)\n",
        "print('Gradient difference: %.2e' % grad_diff)\n",
        "print('Speedup: %.2fX' % (ms_naive / ms_vec))"
      ],
      "execution_count": 0,
      "outputs": []
    },
    {
      "cell_type": "markdown",
      "metadata": {
        "colab_type": "text",
        "id": "bqZScXKyq6WB"
      },
      "source": [
        "Let's check that your implementation of the softmax loss is numerically stable.\n",
        "\n",
        "If either of the following print `nan` then you should double-check the numeric stability of your implementations."
      ]
    },
    {
      "cell_type": "code",
      "metadata": {
        "colab_type": "code",
        "id": "bCyFPWxxq58R",
        "colab": {}
      },
      "source": [
        "device = data_dict['X_train'].device\n",
        "dtype = torch.float32\n",
        "D = data_dict['X_train'].shape[1]\n",
        "C = 10\n",
        "\n",
        "W_ones = torch.ones(D, C, device=device, dtype=dtype)\n",
        "W, loss_hist = train_linear_classifier(softmax_loss_naive, W_ones, \n",
        "                                       data_dict['X_train'], \n",
        "                                       data_dict['y_train'], \n",
        "                                       learning_rate=1e-8, reg=2.5e4,\n",
        "                                       num_iters=1, verbose=True)\n",
        "\n",
        "\n",
        "W_ones = torch.ones(D, C, device=device, dtype=dtype)\n",
        "W, loss_hist = train_linear_classifier(softmax_loss_vectorized, W_ones, \n",
        "                                       data_dict['X_train'], \n",
        "                                       data_dict['y_train'], \n",
        "                                       learning_rate=1e-8, reg=2.5e4,\n",
        "                                       num_iters=1, verbose=True)\n"
      ],
      "execution_count": 0,
      "outputs": []
    },
    {
      "cell_type": "markdown",
      "metadata": {
        "colab_type": "text",
        "id": "kR4JGKoek8FB"
      },
      "source": [
        "Now lets train a softmax classifier with some default hyperparameters:\n"
      ]
    },
    {
      "cell_type": "code",
      "metadata": {
        "colab_type": "code",
        "id": "Kqga1rvjk7b8",
        "colab": {}
      },
      "source": [
        "# fix random seed before we perform this operation\n",
        "coutils.utils.fix_random_seed(10)\n",
        "\n",
        "torch.cuda.synchronize()\n",
        "tic = time.time()\n",
        "\n",
        "W, loss_hist = train_linear_classifier(softmax_loss_vectorized, None, \n",
        "                                       data_dict['X_train'], \n",
        "                                       data_dict['y_train'], \n",
        "                                       learning_rate=1e-10, reg=2.5e4,\n",
        "                                       num_iters=1500, verbose=True)\n",
        "\n",
        "torch.cuda.synchronize()\n",
        "toc = time.time()\n",
        "print('That took %fs' % (toc - tic))"
      ],
      "execution_count": 0,
      "outputs": []
    },
    {
      "cell_type": "markdown",
      "metadata": {
        "colab_type": "text",
        "id": "QKjxCGwkorCc"
      },
      "source": [
        "Plot the loss curve:"
      ]
    },
    {
      "cell_type": "code",
      "metadata": {
        "colab_type": "code",
        "id": "K29x-DWNoujL",
        "colab": {}
      },
      "source": [
        "plt.plot(loss_hist, 'o')\n",
        "plt.xlabel('Iteration number')\n",
        "plt.ylabel('Loss value')\n",
        "plt.show()"
      ],
      "execution_count": 0,
      "outputs": []
    },
    {
      "cell_type": "markdown",
      "metadata": {
        "colab_type": "text",
        "id": "7WvpBuJWSwfd"
      },
      "source": [
        "Let's compute the accuracy of current model. It should be less than 10%."
      ]
    },
    {
      "cell_type": "code",
      "metadata": {
        "colab_type": "code",
        "id": "zb8kY2MjSvfH",
        "colab": {}
      },
      "source": [
        "# evaluate the performance on both the training and validation set\n",
        "y_train_pred = predict_linear_classifier(W, data_dict['X_train'])\n",
        "train_acc = 100.0 * (data_dict['y_train'] == y_train_pred).float().mean().item()\n",
        "print('training accuracy: %.2f%%' % train_acc)\n",
        "y_val_pred = predict_linear_classifier(W, data_dict['X_val'])\n",
        "val_acc = 100.0 * (data_dict['y_val'] == y_val_pred).float().mean().item()\n",
        "print('validation accuracy: %.2f%%' % val_acc)"
      ],
      "execution_count": 0,
      "outputs": []
    },
    {
      "cell_type": "markdown",
      "metadata": {
        "colab_type": "text",
        "id": "IuV0BZvzJirI"
      },
      "source": [
        "Now use the validation set to tune hyperparameters (regularization strength and learning rate). You should experiment with different ranges for the learning rates and regularization strengths.\n",
        "\n",
        "To get full credit for the assignment, your best model found through cross-validation should achieve an accuracy above 0.37 on the validation set.\n",
        "\n",
        "(Our best model was above 0.40 -- did you beat us?)"
      ]
    },
    {
      "cell_type": "code",
      "metadata": {
        "colab_type": "code",
        "id": "TGyf3TkWB-Er",
        "colab": {}
      },
      "source": [
        "class Softmax(LinearClassifier):\n",
        "  \"\"\" A subclass that uses the Softmax + Cross-entropy loss function \"\"\"\n",
        "  def loss(self, W, X_batch, y_batch, reg):\n",
        "    return softmax_loss_vectorized(W, X_batch, y_batch, reg)"
      ],
      "execution_count": 0,
      "outputs": []
    },
    {
      "cell_type": "code",
      "metadata": {
        "colab_type": "code",
        "id": "68lmNVj31ddu",
        "colab": {}
      },
      "source": [
        "results = {}\n",
        "best_val = -1\n",
        "best_softmax = None\n",
        "\n",
        "learning_rates = [] # learning rate candidates\n",
        "regularization_strengths = [] # regularization strengths candidates\n",
        "\n",
        "# As before, store your cross-validation results in this dictionary.\n",
        "# The keys should be tuples of (learning_rate, regularization_strength) and\n",
        "# the values should be tuples (train_accuracy, val_accuracy)\n",
        "results = {}\n",
        "\n",
        "################################################################################\n",
        "# TODO:                                                                        #\n",
        "# Use the validation set to set the learning rate and regularization strength. #\n",
        "# This should be similar to the cross-validation that you used for the SVM,    #\n",
        "# but you may need to select different hyperparameters to achieve good         #\n",
        "# performance with the softmax classifier. Save your best trained softmax      #\n",
        "# classifer in best_softmax.                                                   # \n",
        "################################################################################\n",
        "# Replace \"pass\" statement with your code\n",
        "pass\n",
        "################################################################################\n",
        "#                              END OF YOUR CODE                                #\n",
        "################################################################################\n",
        "    \n",
        "# Print out results.\n",
        "for lr, reg in sorted(results):\n",
        "    train_accuracy, val_accuracy = results[(lr, reg)]\n",
        "    print('lr %e reg %e train accuracy: %f val accuracy: %f' % (\n",
        "                lr, reg, train_accuracy, val_accuracy))\n",
        "    \n",
        "print('best validation accuracy achieved during cross-validation: %f' % best_val)"
      ],
      "execution_count": 0,
      "outputs": []
    },
    {
      "cell_type": "markdown",
      "metadata": {
        "colab_type": "text",
        "id": "efougAmNCFLo"
      },
      "source": [
        "Run the following to visualize your cross-validation results:"
      ]
    },
    {
      "cell_type": "code",
      "metadata": {
        "colab_type": "code",
        "id": "IVhRe3-DBjPr",
        "colab": {}
      },
      "source": [
        "x_scatter = [math.log10(x[0]) for x in results]\n",
        "y_scatter = [math.log10(x[1]) for x in results]\n",
        "\n",
        "# plot training accuracy\n",
        "marker_size = 100\n",
        "colors = [results[x][0] for x in results]\n",
        "plt.scatter(x_scatter, y_scatter, marker_size, c=colors, cmap='viridis')\n",
        "plt.colorbar()\n",
        "plt.xlabel('log learning rate')\n",
        "plt.ylabel('log regularization strength')\n",
        "plt.title('CIFAR-10 training accuracy')\n",
        "plt.gcf().set_size_inches(8, 5)\n",
        "plt.show()\n",
        "\n",
        "# plot validation accuracy\n",
        "colors = [results[x][1] for x in results] # default size of markers is 20\n",
        "plt.scatter(x_scatter, y_scatter, marker_size, c=colors, cmap='viridis')\n",
        "plt.colorbar()\n",
        "plt.xlabel('log learning rate')\n",
        "plt.ylabel('log regularization strength')\n",
        "plt.title('CIFAR-10 validation accuracy')\n",
        "plt.gcf().set_size_inches(8, 5)\n",
        "plt.show()"
      ],
      "execution_count": 0,
      "outputs": []
    },
    {
      "cell_type": "markdown",
      "metadata": {
        "colab_type": "text",
        "id": "fbOlUcv6J7MM"
      },
      "source": [
        "Them, evaluate the performance of your best model on test set. To get full credit for this assignment you should achieve a test-set accuracy above 0.36.\n",
        "\n",
        "(Our best was just over 0.40 -- did you beat us?)\n",
        "\n"
      ]
    },
    {
      "cell_type": "code",
      "metadata": {
        "colab_type": "code",
        "id": "-wxkVdB-1ddx",
        "colab": {}
      },
      "source": [
        "y_test_pred = best_softmax.predict(data_dict['X_test'])\n",
        "test_accuracy = torch.mean((data_dict['y_test'] == y_test_pred).float())\n",
        "print('softmax on raw pixels final test set accuracy: %f' % (test_accuracy, ))"
      ],
      "execution_count": 0,
      "outputs": []
    },
    {
      "cell_type": "markdown",
      "metadata": {
        "colab_type": "text",
        "id": "Joo4RbeoKECC"
      },
      "source": [
        "Finally, let's visualize the learned weights for each class"
      ]
    },
    {
      "cell_type": "code",
      "metadata": {
        "colab_type": "code",
        "id": "XDfxI7mR1ddz",
        "colab": {}
      },
      "source": [
        "w = best_softmax.W[:-1,:] # strip out the bias\n",
        "w = w.reshape(3, 32, 32, 10)\n",
        "w = w.transpose(0, 2).transpose(1, 0)\n",
        "\n",
        "w_min, w_max = torch.min(w), torch.max(w)\n",
        "\n",
        "classes = ['plane', 'car', 'bird', 'cat', 'deer', 'dog', 'frog', 'horse', 'ship', 'truck']\n",
        "for i in range(10):\n",
        "  plt.subplot(2, 5, i + 1)\n",
        "\n",
        "  # Rescale the weights to be between 0 and 255\n",
        "  wimg = 255.0 * (w[:, :, :, i].squeeze() - w_min) / (w_max - w_min)\n",
        "  plt.imshow(wimg.type(torch.uint8).cpu())\n",
        "  plt.axis('off')\n",
        "  plt.title(classes[i])"
      ],
      "execution_count": 0,
      "outputs": []
    }
  ]
}